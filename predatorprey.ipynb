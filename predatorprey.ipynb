{
 "cells": [
  {
   "cell_type": "markdown",
   "id": "a81e68df-c827-406b-8081-8dc1dd74acd3",
   "metadata": {},
   "source": [
    "## Predator Prey Ecosystem"
   ]
  },
  {
   "cell_type": "markdown",
   "id": "d3a3cd24-a3c8-4205-ac60-a67343e5e347",
   "metadata": {},
   "source": [
    "## The problem statement solved by the given code is to simulate the population dynamics of a predator-prey ecosystem using the Lotka-Volterra equations. The Lotka-Volterra equations are a pair of first-order nonlinear differential equations that describe the interactions between two species in a closed ecosystem, where one species (the predator) feeds on the other (the prey).\n",
    "\n",
    "The code initializes the initial populations of prey and predator and creates SYCL buffers to store the populations. Then, it submits a SYCL kernel using a parallel_for loop that calculates the populations at each time step using the Lotka-Volterra equations. The SYCL kernel ensures that the populations remain non-negative. After the simulation is complete, the final populations of prey and predator are printed to the console.\n",
    "\n",
    "The Lotka-Volterra equations used in the code are:\n",
    "\n",
    "dP/dt = aP - bPQ\n",
    "dQ/dt = -cQ + dPQ\n",
    "\n",
    "where P is the population of prey, Q is the population of predator, a is the natural growth rate of prey in the absence of predation, b is the rate at which predators consume prey, c is the natural death rate of predators in the absence of food, and d is the efficiency of turning prey into predator offspring."
   ]
  },
  {
   "cell_type": "code",
   "execution_count": 1,
   "id": "93b0a23f-62b9-44c8-9413-2ec745baed36",
   "metadata": {},
   "outputs": [
    {
     "name": "stdout",
     "output_type": "stream",
     "text": [
      "Overwriting lab/simple.cpp\n"
     ]
    }
   ],
   "source": [
    "%%writefile lab/simple.cpp\n",
    "//==============================================================\n",
    "// Copyright © Intel Corporation\n",
    "//\n",
    "// SPDX-License-Identifier: MIT\n",
    "// =============================================================\n",
    "#include <CL/sycl.hpp>\n",
    "#include <iostream>\n",
    "#include <vector>\n",
    "\n",
    "using namespace cl::sycl;\n",
    "\n",
    "const float a = 1.0f;\n",
    "const float b = 0.1f;\n",
    "const float c = 0.01f;\n",
    "const float d = 1.5f;\n",
    "\n",
    "int main() {\n",
    "    const float dt = 0.01f; // time step\n",
    "    const int N = 1000; // number of time steps\n",
    "\n",
    "    std::vector<float> prey(N);\n",
    "    std::vector<float> predator(N);\n",
    "\n",
    "    prey[0] = 10.0f;\n",
    "    predator[0] = 5.0f;\n",
    "\n",
    "    // Create buffers\n",
    "    buffer<float, 1> prey_buf(prey.data(), range<1>(N));\n",
    "    buffer<float, 1> predator_buf(predator.data(), range<1>(N));\n",
    "\n",
    "    queue q;\n",
    "\n",
    "    q.submit([&](handler& cgh) {\n",
    "        auto prey_acc = prey_buf.get_access<access::mode::read_write>(cgh);\n",
    "        auto predator_acc = predator_buf.get_access<access::mode::read_write>(cgh);\n",
    "\n",
    "        cgh.parallel_for<class simulation_kernel>(range<1>(N-1), [=](id<1> i) {\n",
    "            // Lotka-Volterra equations\n",
    "            prey_acc[i+1] = prey_acc[i] + dt * (a * prey_acc[i] - b * prey_acc[i] * predator_acc[i]);\n",
    "            predator_acc[i+1] = predator_acc[i] + dt * (-c * predator_acc[i] + d * prey_acc[i] * predator_acc[i]);\n",
    "\n",
    "            // Ensure non-negative populations\n",
    "            if (prey_acc[i+1] < 0.0f) {\n",
    "                prey_acc[i+1] = 0.0f;\n",
    "            }\n",
    "            if (predator_acc[i+1] < 0.0f) {\n",
    "                predator_acc[i+1] = 0.0f;\n",
    "            }\n",
    "        });\n",
    "    });\n",
    "\n",
    "    q.wait();\n",
    "\n",
    "    std::cout << \"Final prey population: \" << prey_buf.get_access<access::mode::read>()[N-1] << std::endl;\n",
    "    std::cout << \"Final predator population: \" << predator_buf.get_access<access::mode::read>()[N-1] << std::endl;\n",
    "\n",
    "    return 0;\n",
    "}\n",
    "\n"
   ]
  },
  {
   "cell_type": "code",
   "execution_count": 3,
   "id": "2ef561a0-cf0b-4abc-9197-626c810a1843",
   "metadata": {},
   "outputs": [
    {
     "name": "stdout",
     "output_type": "stream",
     "text": [
      "Job has been submitted to Intel(R) DevCloud and will execute soon.\n",
      "\n",
      "Job ID                    Name             User            Time Use S Queue\n",
      "------------------------- ---------------- --------------- -------- - -----\n",
      "2260557.v-qsvr-1           ...ub-singleuser u182761         00:00:08 R jupyterhub     \n",
      "2260574.v-qsvr-1           run_simple.sh    u182761         00:00:00 R batch          \n",
      "2260577.v-qsvr-1           run_simple.sh    u182761                0 Q batch          \n",
      "\n",
      "Waiting for Output ███████████ Done⬇\n",
      "\n",
      "########################################################################\n",
      "#      Date:           Wed 22 Mar 2023 11:41:21 PM PDT\n",
      "#    Job ID:           2260577.v-qsvr-1.aidevcloud\n",
      "#      User:           u182761\n",
      "# Resources:           cput=75:00:00,neednodes=1:gpu:ppn=2,nodes=1:gpu:ppn=2,walltime=06:00:00\n",
      "########################################################################\n",
      "\n",
      "## u182761 is compiling DPCPP_Essentials Module1 -- oneAPI Intro sample - 1 of 1 simple.cpp\n",
      "Final prey population: 0\n",
      "Final predator population: 0\n",
      "\n",
      "########################################################################\n",
      "# End of output for job 2260577.v-qsvr-1.aidevcloud\n",
      "# Date: Wed 22 Mar 2023 11:41:30 PM PDT\n",
      "########################################################################\n",
      "\n",
      "icpx: warning: use of 'dpcpp' is deprecated and will be removed in a future release. Use 'icpx -fsycl' [-Wdeprecated]\n",
      "Job Completed in 11 seconds.\n"
     ]
    }
   ],
   "source": [
    "! chmod 755 q; chmod 755 run_simple.sh;if [ -x \"$(command -v qsub)\" ]; then ./q run_simple.sh; else ./run_simple.sh; fi"
   ]
  },
  {
   "cell_type": "code",
   "execution_count": null,
   "id": "2af6a81d-d049-4488-ba5d-c3f4debb001d",
   "metadata": {},
   "outputs": [],
   "source": []
  },
  {
   "cell_type": "code",
   "execution_count": null,
   "id": "31086a6c-b52a-45ea-b636-76fcf79e5097",
   "metadata": {},
   "outputs": [],
   "source": []
  }
 ],
 "metadata": {
  "kernelspec": {
   "display_name": "Python 3 (Intel® oneAPI 2023.0)",
   "language": "python",
   "name": "c009-intel_distribution_of_python_3_oneapi-beta05-python"
  },
  "language_info": {
   "codemirror_mode": {
    "name": "ipython",
    "version": 3
   },
   "file_extension": ".py",
   "mimetype": "text/x-python",
   "name": "python",
   "nbconvert_exporter": "python",
   "pygments_lexer": "ipython3",
   "version": "3.9.15"
  }
 },
 "nbformat": 4,
 "nbformat_minor": 5
}
